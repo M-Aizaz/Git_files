{
 "cells": [
  {
   "cell_type": "code",
   "execution_count": 1,
   "metadata": {},
   "outputs": [],
   "source": [
    "import pandas as pd\n",
    "import sklearn\n",
    "import numpy as np"
   ]
  },
  {
   "cell_type": "code",
   "execution_count": 2,
   "metadata": {},
   "outputs": [],
   "source": [
    "st= pd.read_csv(\"D:\\Artifical Intelligent\\Dataset\\student\\student-mat.csv\")"
   ]
  },
  {
   "cell_type": "code",
   "execution_count": 3,
   "metadata": {},
   "outputs": [
    {
     "name": "stdout",
     "output_type": "stream",
     "text": [
      "<bound method NDFrame.head of     school;sex;age;address;famsize;Pstatus;Medu;Fedu;Mjob;Fjob;reason;guardian;traveltime;studytime;failures;schoolsup;famsup;paid;activities;nursery;higher;internet;romantic;famrel;freetime;goout;Dalc;Walc;health;absences;G1;G2;G3\n",
      "0    GP;\"F\";18;\"U\";\"GT3\";\"A\";4;4;\"at_home\";\"teacher...                                                                                                                                                                                 \n",
      "1    GP;\"F\";17;\"U\";\"GT3\";\"T\";1;1;\"at_home\";\"other\";...                                                                                                                                                                                 \n",
      "2    GP;\"F\";15;\"U\";\"LE3\";\"T\";1;1;\"at_home\";\"other\";...                                                                                                                                                                                 \n",
      "3    GP;\"F\";15;\"U\";\"GT3\";\"T\";4;2;\"health\";\"services...                                                                                                                                                                                 \n",
      "4    GP;\"F\";16;\"U\";\"GT3\";\"T\";3;3;\"other\";\"other\";\"h...                                                                                                                                                                                 \n",
      "..                                                 ...                                                                                                                                                                                 \n",
      "390  MS;\"M\";20;\"U\";\"LE3\";\"A\";2;2;\"services\";\"servic...                                                                                                                                                                                 \n",
      "391  MS;\"M\";17;\"U\";\"LE3\";\"T\";3;1;\"services\";\"servic...                                                                                                                                                                                 \n",
      "392  MS;\"M\";21;\"R\";\"GT3\";\"T\";1;1;\"other\";\"other\";\"c...                                                                                                                                                                                 \n",
      "393  MS;\"M\";18;\"R\";\"LE3\";\"T\";3;2;\"services\";\"other\"...                                                                                                                                                                                 \n",
      "394  MS;\"M\";19;\"U\";\"LE3\";\"T\";1;1;\"other\";\"at_home\";...                                                                                                                                                                                 \n",
      "\n",
      "[395 rows x 1 columns]>\n"
     ]
    }
   ],
   "source": [
    "print(st.head)"
   ]
  },
  {
   "cell_type": "code",
   "execution_count": 4,
   "metadata": {},
   "outputs": [
    {
     "name": "stdout",
     "output_type": "stream",
     "text": [
      "<bound method NDFrame.head of     school sex  age address famsize Pstatus  Medu  Fedu      Mjob      Fjob  \\\n",
      "0       GP   F   18       U     GT3       A     4     4   at_home   teacher   \n",
      "1       GP   F   17       U     GT3       T     1     1   at_home     other   \n",
      "2       GP   F   15       U     LE3       T     1     1   at_home     other   \n",
      "3       GP   F   15       U     GT3       T     4     2    health  services   \n",
      "4       GP   F   16       U     GT3       T     3     3     other     other   \n",
      "..     ...  ..  ...     ...     ...     ...   ...   ...       ...       ...   \n",
      "390     MS   M   20       U     LE3       A     2     2  services  services   \n",
      "391     MS   M   17       U     LE3       T     3     1  services  services   \n",
      "392     MS   M   21       R     GT3       T     1     1     other     other   \n",
      "393     MS   M   18       R     LE3       T     3     2  services     other   \n",
      "394     MS   M   19       U     LE3       T     1     1     other   at_home   \n",
      "\n",
      "     ... famrel freetime  goout  Dalc  Walc health absences  G1  G2  G3  \n",
      "0    ...      4        3      4     1     1      3        6   5   6   6  \n",
      "1    ...      5        3      3     1     1      3        4   5   5   6  \n",
      "2    ...      4        3      2     2     3      3       10   7   8  10  \n",
      "3    ...      3        2      2     1     1      5        2  15  14  15  \n",
      "4    ...      4        3      2     1     2      5        4   6  10  10  \n",
      "..   ...    ...      ...    ...   ...   ...    ...      ...  ..  ..  ..  \n",
      "390  ...      5        5      4     4     5      4       11   9   9   9  \n",
      "391  ...      2        4      5     3     4      2        3  14  16  16  \n",
      "392  ...      5        5      3     3     3      3        3  10   8   7  \n",
      "393  ...      4        4      1     3     4      5        0  11  12  10  \n",
      "394  ...      3        2      3     3     3      5        5   8   9   9  \n",
      "\n",
      "[395 rows x 33 columns]>\n"
     ]
    }
   ],
   "source": [
    "st= pd.read_csv(\"D:\\Artifical Intelligent\\Dataset\\student\\student-mat.csv\",sep =';')\n",
    "print(st.head)"
   ]
  },
  {
   "cell_type": "code",
   "execution_count": null,
   "metadata": {},
   "outputs": [],
   "source": [
    "\n"
   ]
  },
  {
   "cell_type": "code",
   "execution_count": 5,
   "metadata": {},
   "outputs": [
    {
     "data": {
      "text/plain": [
       "<bound method NDFrame.head of     school  studytime  failures  absences  G1  G2  G3\n",
       "0       GP          2         0         6   5   6   6\n",
       "1       GP          2         0         4   5   5   6\n",
       "2       GP          2         3        10   7   8  10\n",
       "3       GP          3         0         2  15  14  15\n",
       "4       GP          2         0         4   6  10  10\n",
       "..     ...        ...       ...       ...  ..  ..  ..\n",
       "390     MS          2         2        11   9   9   9\n",
       "391     MS          1         0         3  14  16  16\n",
       "392     MS          1         3         3  10   8   7\n",
       "393     MS          1         0         0  11  12  10\n",
       "394     MS          1         0         5   8   9   9\n",
       "\n",
       "[395 rows x 7 columns]>"
      ]
     },
     "execution_count": 5,
     "metadata": {},
     "output_type": "execute_result"
    }
   ],
   "source": [
    "st=st[[\"school\",\"studytime\",\"failures\",\"absences\",\"G1\",\"G2\",\"G3\"]]\n",
    "st.head\n"
   ]
  },
  {
   "cell_type": "code",
   "execution_count": 6,
   "metadata": {},
   "outputs": [
    {
     "name": "stdout",
     "output_type": "stream",
     "text": [
      "<bound method NDFrame.head of     school  studytime  failures  absences  G1  G2  G3\n",
      "0       GP          2         0         6   5   6   6\n",
      "1       GP          2         0         4   5   5   6\n",
      "2       GP          2         3        10   7   8  10\n",
      "3       GP          3         0         2  15  14  15\n",
      "4       GP          2         0         4   6  10  10\n",
      "..     ...        ...       ...       ...  ..  ..  ..\n",
      "390     MS          2         2        11   9   9   9\n",
      "391     MS          1         0         3  14  16  16\n",
      "392     MS          1         3         3  10   8   7\n",
      "393     MS          1         0         0  11  12  10\n",
      "394     MS          1         0         5   8   9   9\n",
      "\n",
      "[395 rows x 7 columns]>\n"
     ]
    }
   ],
   "source": [
    "print(st.head)"
   ]
  },
  {
   "cell_type": "code",
   "execution_count": 7,
   "metadata": {},
   "outputs": [
    {
     "data": {
      "text/plain": [
       "(395, 7)"
      ]
     },
     "execution_count": 7,
     "metadata": {},
     "output_type": "execute_result"
    }
   ],
   "source": [
    "st=st[[\"school\",\"studytime\",\"failures\",\"absences\",\"G1\",\"G2\",\"G3\"]]\n",
    "st.shape\n"
   ]
  },
  {
   "cell_type": "code",
   "execution_count": 8,
   "metadata": {},
   "outputs": [
    {
     "data": {
      "text/plain": [
       "(395, 6)"
      ]
     },
     "execution_count": 8,
     "metadata": {},
     "output_type": "execute_result"
    }
   ],
   "source": [
    "st=st[[\"studytime\",\"failures\",\"absences\",\"G1\",\"G2\",\"G3\"]]\n",
    "st.shape"
   ]
  },
  {
   "cell_type": "code",
   "execution_count": 9,
   "metadata": {},
   "outputs": [
    {
     "data": {
      "text/plain": [
       "<bound method NDFrame.head of    studytime  failures  absences  G1  G2  G3\n",
       "0          2         0         6   5   6   6\n",
       "1          2         0         4   5   5   6\n",
       "2          2         3        10   7   8  10\n",
       "3          3         0         2  15  14  15\n",
       "4          2         0         4   6  10  10>"
      ]
     },
     "execution_count": 9,
     "metadata": {},
     "output_type": "execute_result"
    }
   ],
   "source": [
    "feat=st[0:5]\n",
    "feat.head"
   ]
  },
  {
   "cell_type": "code",
   "execution_count": 10,
   "metadata": {},
   "outputs": [
    {
     "data": {
      "text/plain": [
       "<bound method NDFrame.head of      studytime  failures  absences  G1  G2  G3\n",
       "0            2         0         6   5   6   6\n",
       "1            2         0         4   5   5   6\n",
       "2            2         3        10   7   8  10\n",
       "3            3         0         2  15  14  15\n",
       "4            2         0         4   6  10  10\n",
       "..         ...       ...       ...  ..  ..  ..\n",
       "390          2         2        11   9   9   9\n",
       "391          1         0         3  14  16  16\n",
       "392          1         3         3  10   8   7\n",
       "393          1         0         0  11  12  10\n",
       "394          1         0         5   8   9   9\n",
       "\n",
       "[395 rows x 6 columns]>"
      ]
     },
     "execution_count": 10,
     "metadata": {},
     "output_type": "execute_result"
    }
   ],
   "source": [
    "feat=st[0:4]\n",
    "st.head"
   ]
  },
  {
   "cell_type": "code",
   "execution_count": null,
   "metadata": {},
   "outputs": [],
   "source": []
  },
  {
   "cell_type": "code",
   "execution_count": 11,
   "metadata": {},
   "outputs": [
    {
     "data": {
      "text/plain": [
       "(4, 6)"
      ]
     },
     "execution_count": 11,
     "metadata": {},
     "output_type": "execute_result"
    }
   ],
   "source": [
    "feat.shape\n"
   ]
  },
  {
   "cell_type": "code",
   "execution_count": 12,
   "metadata": {},
   "outputs": [
    {
     "data": {
      "text/plain": [
       "(395, 6)"
      ]
     },
     "execution_count": 12,
     "metadata": {},
     "output_type": "execute_result"
    }
   ],
   "source": [
    "st.shape"
   ]
  },
  {
   "cell_type": "code",
   "execution_count": 13,
   "metadata": {},
   "outputs": [],
   "source": [
    "data=np.array([st])"
   ]
  },
  {
   "cell_type": "code",
   "execution_count": 14,
   "metadata": {},
   "outputs": [
    {
     "data": {
      "text/plain": [
       "(0, 6)"
      ]
     },
     "execution_count": 14,
     "metadata": {},
     "output_type": "execute_result"
    }
   ],
   "source": [
    "feat=data[:0,-1]\n",
    "feat.shape"
   ]
  },
  {
   "cell_type": "code",
   "execution_count": null,
   "metadata": {},
   "outputs": [],
   "source": []
  },
  {
   "cell_type": "code",
   "execution_count": null,
   "metadata": {},
   "outputs": [],
   "source": [
    "\n"
   ]
  },
  {
   "cell_type": "code",
   "execution_count": 15,
   "metadata": {},
   "outputs": [
    {
     "name": "stdout",
     "output_type": "stream",
     "text": [
      "[[[ 2  0  6  5  6  6]\n",
      "  [ 2  0  4  5  5  6]\n",
      "  [ 2  3 10  7  8 10]\n",
      "  ...\n",
      "  [ 1  3  3 10  8  7]\n",
      "  [ 1  0  0 11 12 10]\n",
      "  [ 1  0  5  8  9  9]]]\n"
     ]
    }
   ],
   "source": [
    "print(data)"
   ]
  },
  {
   "cell_type": "code",
   "execution_count": 16,
   "metadata": {},
   "outputs": [
    {
     "name": "stdout",
     "output_type": "stream",
     "text": [
      "[]\n"
     ]
    }
   ],
   "source": [
    "print(feat)"
   ]
  },
  {
   "cell_type": "code",
   "execution_count": 17,
   "metadata": {},
   "outputs": [],
   "source": [
    "feat=data[:,0:-1]"
   ]
  },
  {
   "cell_type": "code",
   "execution_count": 18,
   "metadata": {},
   "outputs": [
    {
     "name": "stdout",
     "output_type": "stream",
     "text": [
      "[[[ 2  0  6  5  6  6]\n",
      "  [ 2  0  4  5  5  6]\n",
      "  [ 2  3 10  7  8 10]\n",
      "  ...\n",
      "  [ 1  0  3 14 16 16]\n",
      "  [ 1  3  3 10  8  7]\n",
      "  [ 1  0  0 11 12 10]]]\n"
     ]
    }
   ],
   "source": [
    "print(feat)"
   ]
  },
  {
   "cell_type": "code",
   "execution_count": 19,
   "metadata": {},
   "outputs": [
    {
     "name": "stdout",
     "output_type": "stream",
     "text": [
      "[[[ 2  0  6  5  6  6]\n",
      "  [ 2  0  4  5  5  6]\n",
      "  [ 2  3 10  7  8 10]\n",
      "  [ 3  0  2 15 14 15]]]\n"
     ]
    }
   ],
   "source": [
    "feat=data[:,0:4]\n",
    "print(feat)"
   ]
  },
  {
   "cell_type": "code",
   "execution_count": 20,
   "metadata": {},
   "outputs": [
    {
     "name": "stdout",
     "output_type": "stream",
     "text": [
      "[6]\n"
     ]
    }
   ],
   "source": [
    "feat=data[:,0,-1]\n",
    "print(feat)"
   ]
  },
  {
   "cell_type": "code",
   "execution_count": 21,
   "metadata": {},
   "outputs": [
    {
     "data": {
      "text/plain": [
       "<bound method NDFrame.head of      studytime  failures  absences  G1  G2  G3\n",
       "0            2         0         6   5   6   6\n",
       "1            2         0         4   5   5   6\n",
       "2            2         3        10   7   8  10\n",
       "3            3         0         2  15  14  15\n",
       "4            2         0         4   6  10  10\n",
       "..         ...       ...       ...  ..  ..  ..\n",
       "390          2         2        11   9   9   9\n",
       "391          1         0         3  14  16  16\n",
       "392          1         3         3  10   8   7\n",
       "393          1         0         0  11  12  10\n",
       "394          1         0         5   8   9   9\n",
       "\n",
       "[395 rows x 6 columns]>"
      ]
     },
     "execution_count": 21,
     "metadata": {},
     "output_type": "execute_result"
    }
   ],
   "source": [
    "st.head\n"
   ]
  },
  {
   "cell_type": "code",
   "execution_count": null,
   "metadata": {},
   "outputs": [],
   "source": []
  },
  {
   "cell_type": "code",
   "execution_count": 22,
   "metadata": {},
   "outputs": [
    {
     "data": {
      "text/plain": [
       "<bound method NDFrame.head of      studytime  failures  absences  G1  G2\n",
       "0            2         0         6   5   6\n",
       "1            2         0         4   5   5\n",
       "2            2         3        10   7   8\n",
       "3            3         0         2  15  14\n",
       "4            2         0         4   6  10\n",
       "..         ...       ...       ...  ..  ..\n",
       "390          2         2        11   9   9\n",
       "391          1         0         3  14  16\n",
       "392          1         3         3  10   8\n",
       "393          1         0         0  11  12\n",
       "394          1         0         5   8   9\n",
       "\n",
       "[395 rows x 5 columns]>"
      ]
     },
     "execution_count": 22,
     "metadata": {},
     "output_type": "execute_result"
    }
   ],
   "source": [
    "feat=st[[\"studytime\",\"failures\",\"absences\",\"G1\",\"G2\"]]\n",
    "feat.head"
   ]
  },
  {
   "cell_type": "code",
   "execution_count": 23,
   "metadata": {},
   "outputs": [
    {
     "data": {
      "text/plain": [
       "<bound method NDFrame.head of      G3\n",
       "0     6\n",
       "1     6\n",
       "2    10\n",
       "3    15\n",
       "4    10\n",
       "..   ..\n",
       "390   9\n",
       "391  16\n",
       "392   7\n",
       "393  10\n",
       "394   9\n",
       "\n",
       "[395 rows x 1 columns]>"
      ]
     },
     "execution_count": 23,
     "metadata": {},
     "output_type": "execute_result"
    }
   ],
   "source": [
    "tar=st[[\"G3\"]]\n",
    "tar.head"
   ]
  },
  {
   "cell_type": "code",
   "execution_count": null,
   "metadata": {},
   "outputs": [],
   "source": []
  },
  {
   "cell_type": "code",
   "execution_count": 24,
   "metadata": {},
   "outputs": [],
   "source": [
    "from sklearn.model_selection import train_test_split"
   ]
  },
  {
   "cell_type": "code",
   "execution_count": null,
   "metadata": {},
   "outputs": [],
   "source": []
  },
  {
   "cell_type": "code",
   "execution_count": null,
   "metadata": {},
   "outputs": [],
   "source": []
  },
  {
   "cell_type": "code",
   "execution_count": null,
   "metadata": {},
   "outputs": [],
   "source": []
  },
  {
   "cell_type": "code",
   "execution_count": 25,
   "metadata": {},
   "outputs": [],
   "source": [
    "from sklearn.linear_model import LinearRegression"
   ]
  },
  {
   "cell_type": "code",
   "execution_count": 26,
   "metadata": {},
   "outputs": [],
   "source": [
    "rd=LinearRegression()\n"
   ]
  },
  {
   "cell_type": "code",
   "execution_count": null,
   "metadata": {},
   "outputs": [],
   "source": []
  },
  {
   "cell_type": "code",
   "execution_count": null,
   "metadata": {},
   "outputs": [],
   "source": []
  },
  {
   "cell_type": "code",
   "execution_count": 27,
   "metadata": {},
   "outputs": [],
   "source": [
    "x_train,x_test,y_train,y_test = train_test_split(feat,tar,test_size=0.2)"
   ]
  },
  {
   "cell_type": "code",
   "execution_count": 28,
   "metadata": {},
   "outputs": [
    {
     "data": {
      "text/plain": [
       "LinearRegression()"
      ]
     },
     "execution_count": 28,
     "metadata": {},
     "output_type": "execute_result"
    }
   ],
   "source": [
    "rd.fit(x_train,y_train)"
   ]
  },
  {
   "cell_type": "code",
   "execution_count": 29,
   "metadata": {},
   "outputs": [
    {
     "name": "stdout",
     "output_type": "stream",
     "text": [
      "0.7958516440582319\n"
     ]
    }
   ],
   "source": [
    "accLinearRegression=rd.score(x_test,y_test)\n",
    "print(accLinearRegression)"
   ]
  },
  {
   "cell_type": "code",
   "execution_count": null,
   "metadata": {},
   "outputs": [],
   "source": []
  },
  {
   "cell_type": "code",
   "execution_count": null,
   "metadata": {},
   "outputs": [],
   "source": []
  },
  {
   "cell_type": "code",
   "execution_count": 30,
   "metadata": {},
   "outputs": [],
   "source": [
    "from sklearn.neighbors import KNeighborsClassifier"
   ]
  },
  {
   "cell_type": "code",
   "execution_count": 31,
   "metadata": {},
   "outputs": [],
   "source": [
    "knn=KNeighborsClassifier()"
   ]
  },
  {
   "cell_type": "code",
   "execution_count": 32,
   "metadata": {},
   "outputs": [
    {
     "name": "stderr",
     "output_type": "stream",
     "text": [
      "<ipython-input-32-c3be45e0a559>:1: DataConversionWarning: A column-vector y was passed when a 1d array was expected. Please change the shape of y to (n_samples, ), for example using ravel().\n",
      "  knn.fit(x_test,y_test)\n"
     ]
    },
    {
     "data": {
      "text/plain": [
       "KNeighborsClassifier()"
      ]
     },
     "execution_count": 32,
     "metadata": {},
     "output_type": "execute_result"
    }
   ],
   "source": [
    "knn.fit(x_test,y_test)"
   ]
  },
  {
   "cell_type": "code",
   "execution_count": 33,
   "metadata": {},
   "outputs": [
    {
     "name": "stderr",
     "output_type": "stream",
     "text": [
      "<ipython-input-33-17b0ab828d68>:1: DataConversionWarning: A column-vector y was passed when a 1d array was expected. Please change the shape of y to (n_samples, ), for example using ravel().\n",
      "  knn.fit(x_train,y_train)\n"
     ]
    },
    {
     "data": {
      "text/plain": [
       "KNeighborsClassifier()"
      ]
     },
     "execution_count": 33,
     "metadata": {},
     "output_type": "execute_result"
    }
   ],
   "source": [
    "knn.fit(x_train,y_train)"
   ]
  },
  {
   "cell_type": "code",
   "execution_count": 34,
   "metadata": {},
   "outputs": [],
   "source": [
    "x_train,x_test,y_train,y_test = train_test_split(feat,tar,test_size=0.2)"
   ]
  },
  {
   "cell_type": "code",
   "execution_count": 35,
   "metadata": {},
   "outputs": [
    {
     "name": "stderr",
     "output_type": "stream",
     "text": [
      "<ipython-input-35-17b0ab828d68>:1: DataConversionWarning: A column-vector y was passed when a 1d array was expected. Please change the shape of y to (n_samples, ), for example using ravel().\n",
      "  knn.fit(x_train,y_train)\n"
     ]
    },
    {
     "data": {
      "text/plain": [
       "KNeighborsClassifier()"
      ]
     },
     "execution_count": 35,
     "metadata": {},
     "output_type": "execute_result"
    }
   ],
   "source": [
    "knn.fit(x_train,y_train)"
   ]
  },
  {
   "cell_type": "code",
   "execution_count": 36,
   "metadata": {},
   "outputs": [],
   "source": [
    "acc_knn =knn.score(x_test,y_test)"
   ]
  },
  {
   "cell_type": "code",
   "execution_count": 37,
   "metadata": {},
   "outputs": [
    {
     "name": "stdout",
     "output_type": "stream",
     "text": [
      "0.3924050632911392\n"
     ]
    }
   ],
   "source": [
    "print(acc_knn)"
   ]
  },
  {
   "cell_type": "code",
   "execution_count": null,
   "metadata": {},
   "outputs": [],
   "source": []
  },
  {
   "cell_type": "code",
   "execution_count": 38,
   "metadata": {},
   "outputs": [],
   "source": [
    "from sklearn import svm\n"
   ]
  },
  {
   "cell_type": "code",
   "execution_count": 39,
   "metadata": {},
   "outputs": [
    {
     "ename": "AttributeError",
     "evalue": "module 'sklearn.svm' has no attribute 'fit'",
     "output_type": "error",
     "traceback": [
      "\u001b[1;31m---------------------------------------------------------------------------\u001b[0m",
      "\u001b[1;31mAttributeError\u001b[0m                            Traceback (most recent call last)",
      "\u001b[1;32m<ipython-input-39-53cf4bafe2ad>\u001b[0m in \u001b[0;36m<module>\u001b[1;34m\u001b[0m\n\u001b[1;32m----> 1\u001b[1;33m \u001b[0msvm\u001b[0m\u001b[1;33m.\u001b[0m\u001b[0mfit\u001b[0m\u001b[1;33m(\u001b[0m\u001b[0mx_train\u001b[0m\u001b[1;33m,\u001b[0m\u001b[0my_train\u001b[0m\u001b[1;33m)\u001b[0m\u001b[1;33m\u001b[0m\u001b[1;33m\u001b[0m\u001b[0m\n\u001b[0m",
      "\u001b[1;31mAttributeError\u001b[0m: module 'sklearn.svm' has no attribute 'fit'"
     ]
    }
   ],
   "source": [
    "svm.fit(x_train,y_train)"
   ]
  },
  {
   "cell_type": "code",
   "execution_count": null,
   "metadata": {},
   "outputs": [],
   "source": []
  },
  {
   "cell_type": "code",
   "execution_count": null,
   "metadata": {},
   "outputs": [],
   "source": [
    "s=svm()"
   ]
  },
  {
   "cell_type": "code",
   "execution_count": null,
   "metadata": {},
   "outputs": [],
   "source": [
    "model=svm.SVC(kernel='linear')"
   ]
  },
  {
   "cell_type": "markdown",
   "metadata": {},
   "source": [
    "model.fit(x_train,y_train)"
   ]
  },
  {
   "cell_type": "code",
   "execution_count": null,
   "metadata": {},
   "outputs": [],
   "source": [
    "acc=model.score(x_test,y_test)"
   ]
  },
  {
   "cell_type": "code",
   "execution_count": null,
   "metadata": {},
   "outputs": [],
   "source": [
    "from sklearn.svm import SVC"
   ]
  },
  {
   "cell_type": "code",
   "execution_count": null,
   "metadata": {},
   "outputs": [],
   "source": [
    "ss=SVC()"
   ]
  },
  {
   "cell_type": "code",
   "execution_count": null,
   "metadata": {},
   "outputs": [],
   "source": [
    "ss.fit(x_train, y_train)"
   ]
  },
  {
   "cell_type": "code",
   "execution_count": null,
   "metadata": {},
   "outputs": [],
   "source": [
    "x_train,x_test,y_train,y_test = train_test_split(feat,tar,test_size=0.2)"
   ]
  },
  {
   "cell_type": "code",
   "execution_count": null,
   "metadata": {},
   "outputs": [],
   "source": [
    "acc=ss.score(x_test,y_test)"
   ]
  },
  {
   "cell_type": "code",
   "execution_count": null,
   "metadata": {},
   "outputs": [],
   "source": [
    "print(acc)"
   ]
  },
  {
   "cell_type": "code",
   "execution_count": null,
   "metadata": {},
   "outputs": [],
   "source": [
    "print(accLinearRegression)\n",
    "print(acc_knn)\n",
    "print(acc)"
   ]
  },
  {
   "cell_type": "code",
   "execution_count": null,
   "metadata": {},
   "outputs": [],
   "source": [
    "pre=rd.predict(x_test)"
   ]
  },
  {
   "cell_type": "code",
   "execution_count": 43,
   "metadata": {},
   "outputs": [
    {
     "data": {
      "text/plain": [
       "<bound method NDFrame.head of      studytime  failures  absences  G1  G2  G3\n",
       "0            2         0         6   5   6   6\n",
       "1            2         0         4   5   5   6\n",
       "2            2         3        10   7   8  10\n",
       "3            3         0         2  15  14  15\n",
       "4            2         0         4   6  10  10\n",
       "..         ...       ...       ...  ..  ..  ..\n",
       "390          2         2        11   9   9   9\n",
       "391          1         0         3  14  16  16\n",
       "392          1         3         3  10   8   7\n",
       "393          1         0         0  11  12  10\n",
       "394          1         0         5   8   9   9\n",
       "\n",
       "[395 rows x 6 columns]>"
      ]
     },
     "execution_count": 43,
     "metadata": {},
     "output_type": "execute_result"
    }
   ],
   "source": [
    "st.head"
   ]
  },
  {
   "cell_type": "code",
   "execution_count": 48,
   "metadata": {},
   "outputs": [],
   "source": [
    "g=np.array([[1,0,3,14,16]])"
   ]
  },
  {
   "cell_type": "code",
   "execution_count": 49,
   "metadata": {},
   "outputs": [
    {
     "data": {
      "text/plain": [
       "array([15], dtype=int64)"
      ]
     },
     "execution_count": 49,
     "metadata": {},
     "output_type": "execute_result"
    }
   ],
   "source": [
    "knn.predict(g)"
   ]
  },
  {
   "cell_type": "code",
   "execution_count": null,
   "metadata": {},
   "outputs": [],
   "source": []
  }
 ],
 "metadata": {
  "kernelspec": {
   "display_name": "Python 3",
   "language": "python",
   "name": "python3"
  },
  "language_info": {
   "codemirror_mode": {
    "name": "ipython",
    "version": 3
   },
   "file_extension": ".py",
   "mimetype": "text/x-python",
   "name": "python",
   "nbconvert_exporter": "python",
   "pygments_lexer": "ipython3",
   "version": "3.8.5"
  }
 },
 "nbformat": 4,
 "nbformat_minor": 4
}
